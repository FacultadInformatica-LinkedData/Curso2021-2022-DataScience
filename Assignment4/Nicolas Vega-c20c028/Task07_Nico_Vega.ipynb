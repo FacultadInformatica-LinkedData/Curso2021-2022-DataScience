{
  "nbformat": 4,
  "nbformat_minor": 0,
  "metadata": {
    "colab": {
      "name": "Task07_Nico_Vega.ipynb",
      "provenance": [],
      "collapsed_sections": []
    },
    "kernelspec": {
      "display_name": "Python 3 (ipykernel)",
      "language": "python",
      "name": "python3"
    },
    "language_info": {
      "codemirror_mode": {
        "name": "ipython",
        "version": 3
      },
      "file_extension": ".py",
      "mimetype": "text/x-python",
      "name": "python",
      "nbconvert_exporter": "python",
      "pygments_lexer": "ipython3",
      "version": "3.9.5"
    }
  },
  "cells": [
    {
      "cell_type": "markdown",
      "metadata": {
        "id": "nOOPLCHF7hLB"
      },
      "source": [
        "**Task 07: Querying RDF(s)**"
      ]
    },
    {
      "cell_type": "code",
      "metadata": {
        "colab": {
          "base_uri": "https://localhost:8080/"
        },
        "id": "Yl9npCt8n6m-",
        "outputId": "73caba33-af3a-48c9-8fde-9803e38812ef"
      },
      "source": [
        "!pip install rdflib \n",
        "github_storage = \"https://raw.githubusercontent.com/FacultadInformatica-LinkedData/Curso2021-2022/master/Assignment4/course_materials\""
      ],
      "execution_count": 2,
      "outputs": [
        {
          "output_type": "stream",
          "name": "stdout",
          "text": [
            "Collecting rdflib\n",
            "  Downloading rdflib-6.0.2-py3-none-any.whl (407 kB)\n",
            "\u001b[?25l\r\u001b[K     |▉                               | 10 kB 14.2 MB/s eta 0:00:01\r\u001b[K     |█▋                              | 20 kB 17.5 MB/s eta 0:00:01\r\u001b[K     |██▍                             | 30 kB 19.0 MB/s eta 0:00:01\r\u001b[K     |███▏                            | 40 kB 21.4 MB/s eta 0:00:01\r\u001b[K     |████                            | 51 kB 23.7 MB/s eta 0:00:01\r\u001b[K     |████▉                           | 61 kB 25.8 MB/s eta 0:00:01\r\u001b[K     |█████▋                          | 71 kB 26.3 MB/s eta 0:00:01\r\u001b[K     |██████▍                         | 81 kB 28.1 MB/s eta 0:00:01\r\u001b[K     |███████▎                        | 92 kB 28.7 MB/s eta 0:00:01\r\u001b[K     |████████                        | 102 kB 28.8 MB/s eta 0:00:01\r\u001b[K     |████████▉                       | 112 kB 28.8 MB/s eta 0:00:01\r\u001b[K     |█████████▋                      | 122 kB 28.8 MB/s eta 0:00:01\r\u001b[K     |██████████▌                     | 133 kB 28.8 MB/s eta 0:00:01\r\u001b[K     |███████████▎                    | 143 kB 28.8 MB/s eta 0:00:01\r\u001b[K     |████████████                    | 153 kB 28.8 MB/s eta 0:00:01\r\u001b[K     |████████████▉                   | 163 kB 28.8 MB/s eta 0:00:01\r\u001b[K     |█████████████▊                  | 174 kB 28.8 MB/s eta 0:00:01\r\u001b[K     |██████████████▌                 | 184 kB 28.8 MB/s eta 0:00:01\r\u001b[K     |███████████████▎                | 194 kB 28.8 MB/s eta 0:00:01\r\u001b[K     |████████████████                | 204 kB 28.8 MB/s eta 0:00:01\r\u001b[K     |█████████████████               | 215 kB 28.8 MB/s eta 0:00:01\r\u001b[K     |█████████████████▊              | 225 kB 28.8 MB/s eta 0:00:01\r\u001b[K     |██████████████████▌             | 235 kB 28.8 MB/s eta 0:00:01\r\u001b[K     |███████████████████▎            | 245 kB 28.8 MB/s eta 0:00:01\r\u001b[K     |████████████████████▏           | 256 kB 28.8 MB/s eta 0:00:01\r\u001b[K     |█████████████████████           | 266 kB 28.8 MB/s eta 0:00:01\r\u001b[K     |█████████████████████▊          | 276 kB 28.8 MB/s eta 0:00:01\r\u001b[K     |██████████████████████▌         | 286 kB 28.8 MB/s eta 0:00:01\r\u001b[K     |███████████████████████▍        | 296 kB 28.8 MB/s eta 0:00:01\r\u001b[K     |████████████████████████▏       | 307 kB 28.8 MB/s eta 0:00:01\r\u001b[K     |█████████████████████████       | 317 kB 28.8 MB/s eta 0:00:01\r\u001b[K     |█████████████████████████▊      | 327 kB 28.8 MB/s eta 0:00:01\r\u001b[K     |██████████████████████████▋     | 337 kB 28.8 MB/s eta 0:00:01\r\u001b[K     |███████████████████████████▍    | 348 kB 28.8 MB/s eta 0:00:01\r\u001b[K     |████████████████████████████▏   | 358 kB 28.8 MB/s eta 0:00:01\r\u001b[K     |█████████████████████████████   | 368 kB 28.8 MB/s eta 0:00:01\r\u001b[K     |█████████████████████████████▉  | 378 kB 28.8 MB/s eta 0:00:01\r\u001b[K     |██████████████████████████████▋ | 389 kB 28.8 MB/s eta 0:00:01\r\u001b[K     |███████████████████████████████▍| 399 kB 28.8 MB/s eta 0:00:01\r\u001b[K     |████████████████████████████████| 407 kB 28.8 MB/s \n",
            "\u001b[?25hRequirement already satisfied: setuptools in /usr/local/lib/python3.7/dist-packages (from rdflib) (57.4.0)\n",
            "Requirement already satisfied: pyparsing in /usr/local/lib/python3.7/dist-packages (from rdflib) (3.0.6)\n",
            "Collecting isodate\n",
            "  Downloading isodate-0.6.0-py2.py3-none-any.whl (45 kB)\n",
            "\u001b[K     |████████████████████████████████| 45 kB 3.8 MB/s \n",
            "\u001b[?25hRequirement already satisfied: six in /usr/local/lib/python3.7/dist-packages (from isodate->rdflib) (1.15.0)\n",
            "Installing collected packages: isodate, rdflib\n",
            "Successfully installed isodate-0.6.0 rdflib-6.0.2\n"
          ]
        }
      ]
    },
    {
      "cell_type": "markdown",
      "metadata": {
        "id": "XY7aPc86Bqoo"
      },
      "source": [
        "Leemos el fichero RDF de la forma que lo hemos venido haciendo"
      ]
    },
    {
      "cell_type": "code",
      "metadata": {
        "colab": {
          "base_uri": "https://localhost:8080/"
        },
        "id": "9ERh415on7kF",
        "outputId": "02ccb958-84d6-4f1e-885c-88a3bad098dd"
      },
      "source": [
        "from rdflib import Graph, Namespace, Literal\n",
        "from rdflib.namespace import RDF, RDFS\n",
        "from rdflib.plugins.sparql import prepareQuery\n",
        "ns = Namespace(\"http://somewhere#\")\n",
        "g = Graph()\n",
        "g.namespace_manager.bind('ns', Namespace(\"http://somewhere#\"), override=False)\n",
        "g.namespace_manager.bind('vcard', Namespace(\"http://www.w3.org/2001/vcard-rdf/3.0#\"), override=False)\n",
        "g.parse(github_storage+\"/rdf/example6.rdf\", format=\"xml\")"
      ],
      "execution_count": 3,
      "outputs": [
        {
          "output_type": "execute_result",
          "data": {
            "text/plain": [
              "<Graph identifier=N6744bc9bf4f94e4aa8d9d57a15d12729 (<class 'rdflib.graph.Graph'>)>"
            ]
          },
          "metadata": {},
          "execution_count": 3
        }
      ]
    },
    {
      "cell_type": "markdown",
      "metadata": {
        "id": "qp1oe2Eddsvo"
      },
      "source": [
        "**TASK 7.1: List all subclasses of \"Person\" with RDFLib and SPARQL**"
      ]
    },
    {
      "cell_type": "code",
      "metadata": {
        "colab": {
          "base_uri": "https://localhost:8080/"
        },
        "id": "tRcSWuMHOXBl",
        "outputId": "f5e0be8c-accf-4490-b915-ab19dc4f349a"
      },
      "source": [
        "for s, p, o in g.triples((None, RDFS.subClassOf, ns.Person)):\n",
        "  print(s)\n",
        "\n",
        "\n",
        "q1 = prepareQuery('''\n",
        "  SELECT ?x\n",
        "  WHERE{\n",
        "\t  ?x rdfs:subClassOf ns:Person\t\t      \n",
        "  }\t\t\t\t\t\t\t                                           \n",
        "  ''',\n",
        "  initNs = {\"rdfs\": RDFS, \"ns\": ns}\n",
        ")\n",
        "for r in g.query(q1):\n",
        " print(r)"
      ],
      "execution_count": 4,
      "outputs": [
        {
          "output_type": "stream",
          "name": "stdout",
          "text": [
            "http://somewhere#Researcher\n",
            "(rdflib.term.URIRef('http://somewhere#Researcher'),)\n"
          ]
        }
      ]
    },
    {
      "cell_type": "markdown",
      "metadata": {
        "id": "gM3DASkTQQ5Y"
      },
      "source": [
        "**TASK 7.2: List all individuals of \"Person\" with RDFLib and SPARQL (remember the subClasses)**\n"
      ]
    },
    {
      "cell_type": "code",
      "metadata": {
        "colab": {
          "base_uri": "https://localhost:8080/"
        },
        "id": "LiKSPHRzS-XJ",
        "outputId": "e0118d49-9f45-469a-847f-ad3c9d95f57a"
      },
      "source": [
        "for s, p, o in g.triples((None, RDF.type, ns.Person)):\n",
        "  print(s)\n",
        "\n",
        "q2 = prepareQuery('''\n",
        "  SELECT ?x\n",
        "  WHERE{\n",
        "\t  ?x a ns:Person\t\t      \n",
        "  }\t\t\t\t\t\t\t                                           \n",
        "  ''',\n",
        "  initNs = {\"rdfs\": RDFS, \"ns\": ns}\n",
        ")\n",
        "for r in g.query(q2):\n",
        " print(r)"
      ],
      "execution_count": 5,
      "outputs": [
        {
          "output_type": "stream",
          "name": "stdout",
          "text": [
            "http://somewhere#SaraJones\n",
            "http://somewhere#JohnSmith\n",
            "(rdflib.term.URIRef('http://somewhere#SaraJones'),)\n",
            "(rdflib.term.URIRef('http://somewhere#JohnSmith'),)\n"
          ]
        }
      ]
    },
    {
      "cell_type": "markdown",
      "metadata": {
        "id": "MXBqtBkJd22I"
      },
      "source": [
        "**TASK 7.3: List all individuals of \"Person\" and all their properties including their class with RDFLib and SPARQL**\n"
      ]
    },
    {
      "cell_type": "code",
      "metadata": {
        "colab": {
          "base_uri": "https://localhost:8080/"
        },
        "id": "APQGv3NHX8Tf",
        "outputId": "b4e7f4ce-de02-4e63-95b6-23f3f401c5e2"
      },
      "source": [
        "print()\n",
        "# \n",
        "for subs, p1, o1 in g.triples((None, RDF.type, None)):\n",
        "    for _ in g.triples((o1, RDFS.subClassOf, ns.Person)):\n",
        "        for s, p, o in g.triples((subs, None, None)):\n",
        "            print(f\"[RDFLIB] ALL: {subs} {p} {o}\")\n",
        "\n",
        "\n",
        "# Actual Instances of Person\n",
        "for subs, p1, o1 in g.triples((None, RDF.type, ns.Person)):\n",
        "    for s, p, o in g.triples((subs, None, None)):\n",
        "        print(f\"[RDFLIB] ALL: {subs} {p} {o}\")\n",
        "\n",
        "\n",
        "\n",
        "\n",
        "q = prepareQuery(\"\"\"\n",
        "    SELECT DISTINCT ?person ?prop ?value\n",
        "    WHERE {\n",
        "        ?person a ?type.\n",
        "        ?type rdfs:subClassOf* ns:Person.\n",
        "        ?person ?prop ?value.\n",
        "    }\n",
        "\"\"\",\n",
        "initNs={\n",
        "    'ns': \"http://somewhere#\",\n",
        "    'rdfs': \"http://www.w3.org/2000/01/rdf-schema#\"\n",
        "})"
      ],
      "execution_count": 6,
      "outputs": [
        {
          "output_type": "stream",
          "name": "stdout",
          "text": [
            "\n",
            "[RDFLIB] ALL: http://somewhere#JaneSmith http://www.w3.org/1999/02/22-rdf-syntax-ns#type http://somewhere#Researcher\n",
            "[RDFLIB] ALL: http://somewhere#JaneSmith http://somewhere#http://www.w3.org/2001/vcard-rdf/3.0/Given Jane\n",
            "[RDFLIB] ALL: http://somewhere#JaneSmith http://somewhere#http://www.w3.org/2001/vcard-rdf/3.0/FN jane Smith\n",
            "[RDFLIB] ALL: http://somewhere#JaneSmith http://somewhere#http://www.w3.org/2001/vcard-rdf/3.0/Family Smith\n",
            "[RDFLIB] ALL: http://somewhere#SaraJones http://www.w3.org/1999/02/22-rdf-syntax-ns#type http://somewhere#Person\n",
            "[RDFLIB] ALL: http://somewhere#SaraJones http://somewhere#http://www.w3.org/2001/vcard-rdf/3.0/Given Sara\n",
            "[RDFLIB] ALL: http://somewhere#SaraJones http://somewhere#http://www.w3.org/2001/vcard-rdf/3.0/FN Sara Jones\n",
            "[RDFLIB] ALL: http://somewhere#SaraJones http://somewhere#http://www.w3.org/2001/vcard-rdf/3.0/Family Jones\n",
            "[RDFLIB] ALL: http://somewhere#JohnSmith http://www.w3.org/1999/02/22-rdf-syntax-ns#type http://somewhere#Person\n",
            "[RDFLIB] ALL: http://somewhere#JohnSmith http://somewhere#http://www.w3.org/2001/vcard-rdf/3.0/Given John\n",
            "[RDFLIB] ALL: http://somewhere#JohnSmith http://somewhere#http://www.w3.org/2001/vcard-rdf/3.0/FN John Smith\n",
            "[RDFLIB] ALL: http://somewhere#JohnSmith http://somewhere#http://www.w3.org/2001/vcard-rdf/3.0/Family Smith\n"
          ]
        }
      ]
    },
    {
      "cell_type": "code",
      "metadata": {
        "colab": {
          "base_uri": "https://localhost:8080/"
        },
        "id": "Km5AzcdTepYz",
        "outputId": "c2da1acc-40d4-4cb6-8a08-c8cb6bab66ed"
      },
      "source": [
        "for s, p, o in g.triples((None, RDF.type, ns.Person)):\n",
        "  for s2, p2, o2 in g.triples((s, None, None)):\n",
        "    print(s2, p2, o2)\n",
        "\n",
        "q = prepareQuery(\"\"\"\n",
        "  SELECT ?x ?pr ?ob\n",
        "  WHERE{\n",
        "\t  ?x a ns:Person.\n",
        "    ?x ?pr ?ob.    \n",
        "    }\n",
        "\"\"\",\n",
        "initNs={\n",
        "    'ns': \"http://somewhere#\",\n",
        "    'rdfs': \"http://www.w3.org/2000/01/rdf-schema#\"\n",
        "})\n",
        "for r in g.query(q):\n",
        " print(r)"
      ],
      "execution_count": 13,
      "outputs": [
        {
          "output_type": "stream",
          "name": "stdout",
          "text": [
            "http://somewhere#SaraJones http://www.w3.org/1999/02/22-rdf-syntax-ns#type http://somewhere#Person\n",
            "http://somewhere#SaraJones http://somewhere#http://www.w3.org/2001/vcard-rdf/3.0/Given Sara\n",
            "http://somewhere#SaraJones http://somewhere#http://www.w3.org/2001/vcard-rdf/3.0/FN Sara Jones\n",
            "http://somewhere#SaraJones http://somewhere#http://www.w3.org/2001/vcard-rdf/3.0/Family Jones\n",
            "http://somewhere#JohnSmith http://www.w3.org/1999/02/22-rdf-syntax-ns#type http://somewhere#Person\n",
            "http://somewhere#JohnSmith http://somewhere#http://www.w3.org/2001/vcard-rdf/3.0/Given John\n",
            "http://somewhere#JohnSmith http://somewhere#http://www.w3.org/2001/vcard-rdf/3.0/FN John Smith\n",
            "http://somewhere#JohnSmith http://somewhere#http://www.w3.org/2001/vcard-rdf/3.0/Family Smith\n",
            "(rdflib.term.URIRef('http://somewhere#SaraJones'), rdflib.term.URIRef('http://www.w3.org/1999/02/22-rdf-syntax-ns#type'), rdflib.term.URIRef('http://somewhere#Person'))\n",
            "(rdflib.term.URIRef('http://somewhere#SaraJones'), rdflib.term.URIRef('http://somewhere#http://www.w3.org/2001/vcard-rdf/3.0/Given'), rdflib.term.Literal('Sara', datatype=rdflib.term.URIRef('http://www.w3.org/2001/XMLSchema#string')))\n",
            "(rdflib.term.URIRef('http://somewhere#SaraJones'), rdflib.term.URIRef('http://somewhere#http://www.w3.org/2001/vcard-rdf/3.0/FN'), rdflib.term.Literal('Sara Jones', datatype=rdflib.term.URIRef('http://www.w3.org/2001/XMLSchema#string')))\n",
            "(rdflib.term.URIRef('http://somewhere#SaraJones'), rdflib.term.URIRef('http://somewhere#http://www.w3.org/2001/vcard-rdf/3.0/Family'), rdflib.term.Literal('Jones', datatype=rdflib.term.URIRef('http://www.w3.org/2001/XMLSchema#string')))\n",
            "(rdflib.term.URIRef('http://somewhere#JohnSmith'), rdflib.term.URIRef('http://www.w3.org/1999/02/22-rdf-syntax-ns#type'), rdflib.term.URIRef('http://somewhere#Person'))\n",
            "(rdflib.term.URIRef('http://somewhere#JohnSmith'), rdflib.term.URIRef('http://somewhere#http://www.w3.org/2001/vcard-rdf/3.0/Given'), rdflib.term.Literal('John', datatype=rdflib.term.URIRef('http://www.w3.org/2001/XMLSchema#string')))\n",
            "(rdflib.term.URIRef('http://somewhere#JohnSmith'), rdflib.term.URIRef('http://somewhere#http://www.w3.org/2001/vcard-rdf/3.0/FN'), rdflib.term.Literal('John Smith', datatype=rdflib.term.URIRef('http://www.w3.org/2001/XMLSchema#string')))\n",
            "(rdflib.term.URIRef('http://somewhere#JohnSmith'), rdflib.term.URIRef('http://somewhere#http://www.w3.org/2001/vcard-rdf/3.0/Family'), rdflib.term.Literal('Smith', datatype=rdflib.term.URIRef('http://www.w3.org/2001/XMLSchema#string')))\n"
          ]
        }
      ]
    }
  ]
}