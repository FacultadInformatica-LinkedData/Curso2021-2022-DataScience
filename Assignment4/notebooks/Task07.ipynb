{
 "cells": [
  {
   "cell_type": "markdown",
   "metadata": {
    "id": "nOOPLCHF7hLB"
   },
   "source": [
    "**Task 07: Querying RDF(s)**"
   ]
  },
  {
   "cell_type": "code",
   "execution_count": 1,
   "metadata": {
    "colab": {
     "base_uri": "https://localhost:8080/",
     "height": 211
    },
    "executionInfo": {
     "elapsed": 4475,
     "status": "ok",
     "timestamp": 1601221302273,
     "user": {
      "displayName": "Manuel Mazarro Vicente",
      "photoUrl": "",
      "userId": "00468940320268997826"
     },
     "user_tz": -120
    },
    "id": "Yl9npCt8n6m-",
    "outputId": "096014c0-f1ad-4bd6-bada-ab3561ff1367"
   },
   "outputs": [
    {
     "name": "stdout",
     "output_type": "stream",
     "text": [
      "Requirement already satisfied: rdflib in /home/dgarijo/Documents/GitHub/Curso2021-2022/env_3.9/lib/python3.9/site-packages (6.0.1)\n",
      "Requirement already satisfied: isodate in /home/dgarijo/Documents/GitHub/Curso2021-2022/env_3.9/lib/python3.9/site-packages (from rdflib) (0.6.0)\n",
      "Requirement already satisfied: setuptools in /home/dgarijo/Documents/GitHub/Curso2021-2022/env_3.9/lib/python3.9/site-packages (from rdflib) (44.1.1)\n",
      "Requirement already satisfied: pyparsing in /home/dgarijo/Documents/GitHub/Curso2021-2022/env_3.9/lib/python3.9/site-packages (from rdflib) (2.4.7)\n",
      "Requirement already satisfied: six in /home/dgarijo/Documents/GitHub/Curso2021-2022/env_3.9/lib/python3.9/site-packages (from isodate->rdflib) (1.16.0)\n"
     ]
    }
   ],
   "source": [
    "!pip install rdflib \n",
    "github_storage = \"https://raw.githubusercontent.com/FacultadInformatica-LinkedData/Curso2021-2022/master/Assignment4/course_materials\""
   ]
  },
  {
   "cell_type": "markdown",
   "metadata": {
    "id": "XY7aPc86Bqoo"
   },
   "source": [
    "Leemos el fichero RDF de la forma que lo hemos venido haciendo"
   ]
  },
  {
   "cell_type": "code",
   "execution_count": 2,
   "metadata": {
    "colab": {
     "base_uri": "https://localhost:8080/",
     "height": 35
    },
    "executionInfo": {
     "elapsed": 915,
     "status": "ok",
     "timestamp": 1601221305543,
     "user": {
      "displayName": "Manuel Mazarro Vicente",
      "photoUrl": "",
      "userId": "00468940320268997826"
     },
     "user_tz": -120
    },
    "id": "9ERh415on7kF",
    "outputId": "395dc571-ef76-4330-cf4b-0b9db3aa5277"
   },
   "outputs": [
    {
     "data": {
      "text/plain": [
       "<Graph identifier=N743faa1dfcd04f438f1129d2ddcd40f6 (<class 'rdflib.graph.Graph'>)>"
      ]
     },
     "execution_count": 2,
     "metadata": {},
     "output_type": "execute_result"
    }
   ],
   "source": [
    "from rdflib import Graph, Namespace, Literal\n",
    "from rdflib.namespace import RDF, RDFS\n",
    "g = Graph()\n",
    "g.namespace_manager.bind('ns', Namespace(\"http://somewhere#\"), override=False)\n",
    "g.namespace_manager.bind('vcard', Namespace(\"http://www.w3.org/2001/vcard-rdf/3.0#\"), override=False)\n",
    "g.parse(github_storage+\"/rdf/example6.rdf\", format=\"xml\")"
   ]
  },
  {
   "cell_type": "markdown",
   "metadata": {
    "id": "qp1oe2Eddsvo"
   },
   "source": [
    "**TASK 7.1: List all subclasses of \"Person\" with RDFLib and SPARQL**"
   ]
  },
  {
   "cell_type": "code",
   "execution_count": 7,
   "metadata": {
    "colab": {
     "base_uri": "https://localhost:8080/",
     "height": 52
    },
    "executionInfo": {
     "elapsed": 7050,
     "status": "ok",
     "timestamp": 1601222246450,
     "user": {
      "displayName": "Manuel Mazarro Vicente",
      "photoUrl": "",
      "userId": "00468940320268997826"
     },
     "user_tz": -120
    },
    "id": "tRcSWuMHOXBl",
    "outputId": "b6bffa57-06fc-493c-e38d-14cc6f63bea9"
   },
   "outputs": [],
   "source": [
    "# TO DO\n",
    "# Visualize the results\n",
    "\n",
    "#for r in g.query(q1):\n",
    "#  print(r)"
   ]
  },
  {
   "cell_type": "markdown",
   "metadata": {
    "id": "gM3DASkTQQ5Y"
   },
   "source": [
    "**TASK 7.2: List all individuals of \"Person\" with RDFLib and SPARQL (remember the subClasses)**\n"
   ]
  },
  {
   "cell_type": "code",
   "execution_count": 8,
   "metadata": {
    "colab": {
     "base_uri": "https://localhost:8080/",
     "height": 121
    },
    "executionInfo": {
     "elapsed": 747,
     "status": "ok",
     "timestamp": 1601223361790,
     "user": {
      "displayName": "Manuel Mazarro Vicente",
      "photoUrl": "",
      "userId": "00468940320268997826"
     },
     "user_tz": -120
    },
    "id": "LiKSPHRzS-XJ",
    "outputId": "ebbe6519-7dc2-4581-b618-da596fda1799"
   },
   "outputs": [],
   "source": [
    "# TO DO\n",
    "# Visualize the results"
   ]
  },
  {
   "cell_type": "markdown",
   "metadata": {
    "id": "MXBqtBkJd22I"
   },
   "source": [
    "**TASK 7.3: List all individuals of \"Person\" and all their properties including their class with RDFLib and SPARQL**\n"
   ]
  },
  {
   "cell_type": "code",
   "execution_count": 9,
   "metadata": {
    "colab": {
     "base_uri": "https://localhost:8080/",
     "height": 433
    },
    "executionInfo": {
     "elapsed": 856,
     "status": "ok",
     "timestamp": 1601223918812,
     "user": {
      "displayName": "Manuel Mazarro Vicente",
      "photoUrl": "",
      "userId": "00468940320268997826"
     },
     "user_tz": -120
    },
    "id": "APQGv3NHX8Tf",
    "outputId": "a06dc1f0-3dff-4fe4-e211-7ea6498011ef"
   },
   "outputs": [],
   "source": [
    "# TO DO\n",
    "# Visualize the results"
   ]
  }
 ],
 "metadata": {
  "colab": {
   "collapsed_sections": [],
   "name": "Task07.ipynb",
   "provenance": []
  },
  "kernelspec": {
   "display_name": "Python 3 (ipykernel)",
   "language": "python",
   "name": "python3"
  },
  "language_info": {
   "codemirror_mode": {
    "name": "ipython",
    "version": 3
   },
   "file_extension": ".py",
   "mimetype": "text/x-python",
   "name": "python",
   "nbconvert_exporter": "python",
   "pygments_lexer": "ipython3",
   "version": "3.9.5"
  }
 },
 "nbformat": 4,
 "nbformat_minor": 1
}
